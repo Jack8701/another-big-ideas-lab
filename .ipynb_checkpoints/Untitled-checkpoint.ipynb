{
 "cells": [
  {
   "cell_type": "code",
   "execution_count": 4,
   "id": "e32b597c-c477-43c2-802d-cc657c39ebb2",
   "metadata": {},
   "outputs": [
    {
     "name": "stdin",
     "output_type": "stream",
     "text": [
      "Input name: Jack\n",
      "Input fear: Snakes\n"
     ]
    },
    {
     "name": "stdout",
     "output_type": "stream",
     "text": [
      "Hello Jack, you will die of Snakes!\n"
     ]
    }
   ],
   "source": [
    "name = input(\"Input name:\")\n",
    "fear = input(\"Input fear:\")\n",
    "print(\"Hello \" + name + \", you will die of \" + fear + \"!\")"
   ]
  },
  {
   "cell_type": "code",
   "execution_count": null,
   "id": "e4f67f85-f400-43f1-9b00-9f5cc9fa270d",
   "metadata": {},
   "outputs": [],
   "source": [
    "print(\"five summers with the length of five long winters :(\")"
   ]
  }
 ],
 "metadata": {
  "kernelspec": {
   "display_name": "Python 3 (ipykernel)",
   "language": "python",
   "name": "python3"
  },
  "language_info": {
   "codemirror_mode": {
    "name": "ipython",
    "version": 3
   },
   "file_extension": ".py",
   "mimetype": "text/x-python",
   "name": "python",
   "nbconvert_exporter": "python",
   "pygments_lexer": "ipython3",
   "version": "3.12.4"
  }
 },
 "nbformat": 4,
 "nbformat_minor": 5
}
