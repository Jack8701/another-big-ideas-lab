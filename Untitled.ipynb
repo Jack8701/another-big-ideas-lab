{
 "cells": [
  {
   "cell_type": "code",
   "execution_count": 1,
   "id": "30ac1950-a199-4eef-b54a-996194357883",
   "metadata": {},
   "outputs": [
    {
     "name": "stdout",
     "output_type": "stream",
     "text": [
      "hi mom\n"
     ]
    }
   ],
   "source": [
    "print(\"hi mom\")"
   ]
  },
  {
   "cell_type": "code",
   "execution_count": 1,
   "id": "2d31eb11-b30a-4e4a-9fea-56ac2d5023e3",
   "metadata": {},
   "outputs": [
    {
     "name": "stdout",
     "output_type": "stream",
     "text": [
      "please let this work\n"
     ]
    }
   ],
   "source": [
    "print(\"please let this work\")"
   ]
  },
  {
   "cell_type": "code",
   "execution_count": null,
   "id": "39e50a38-6310-4c61-a054-e9e559324c0e",
   "metadata": {},
   "outputs": [],
   "source": []
  }
 ],
 "metadata": {
  "kernelspec": {
   "display_name": "Python 3 (ipykernel)",
   "language": "python",
   "name": "python3"
  },
  "language_info": {
   "codemirror_mode": {
    "name": "ipython",
    "version": 3
   },
   "file_extension": ".py",
   "mimetype": "text/x-python",
   "name": "python",
   "nbconvert_exporter": "python",
   "pygments_lexer": "ipython3",
   "version": "3.12.4"
  }
 },
 "nbformat": 4,
 "nbformat_minor": 5
}
